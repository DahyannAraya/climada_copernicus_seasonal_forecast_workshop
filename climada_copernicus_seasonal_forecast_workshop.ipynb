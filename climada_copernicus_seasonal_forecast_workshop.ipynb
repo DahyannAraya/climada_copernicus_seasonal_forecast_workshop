{
  "cells": [
    {
      "attachments": {},
      "cell_type": "markdown",
      "metadata": {},
      "source": [
        "<img src=\"./images/Logos.png\" title=\"Institutional Logos\" width=\"70%\">"
      ]
    },
    {
      "attachments": {},
      "cell_type": "markdown",
      "metadata": {},
      "source": [
        "## Copernicus Seasonal Forecast Module\n",
        "\n",
        "This module is developed to manage seasonal forecast data from the [Copernicus Climate Data Store](https://cds.climate.copernicus.eu) (CDS) for the [U-CLIMADAPT project](https://www.copernicus-user-uptake.eu/user-uptake/details/responding-to-the-impact-of-climate-change-u-climadapt-488). \n",
        "It offers comprehensive tools for downloading, processing, computing climate indices, and generating hazard objects based on seasonal forecast datasets, particularly [Seasonal forecast daily and subdaily data on single levels](https://cds.climate.copernicus.eu/datasets/seasonal-original-single-levels?tab=overview). \n",
        "The module is tailored to integrate seamlessly with the [CLIMADA](https://climada.ethz.ch/)(CLIMate ADAptation) platform, supporting climate risk assessment and the development of effective adaptation strategies.\n",
        "\n",
        "Features:\n",
        "- Download seasonal forecast data from CDS\n",
        "- Process raw data into climate indices\n",
        "- Calculate various heat-related indices (e.g., Maximum Temperature, Tropical Nights)\n",
        "- Create CLIMADA Hazard objects for further risk analysis\n",
        "- Visualize hazard data\n",
        "\n",
        "Prerequisites:\n",
        "\n",
        "1. CDS account and API key:\n",
        "   Register at https://cds.climate.copernicus.eu\n",
        "\n",
        "2. CDS API client installation:\n",
        "   pip install cdsapi\n",
        "\n",
        "3. CDS API configuration:\n",
        "   Create a .cdsapirc file in your home directory with your API key and URL.\n",
        "   For instructions, visit: https://cds.climate.copernicus.eu/how-to-api#install-the-cds-api-client\n",
        "\n",
        "4. Dataset Terms and Conditions: After selecting the dataset to download, make \n",
        "   sure to accept the terms and conditions on the corresponding dataset webpage in the CDS portal before running this notebook. Here, https://cds.climate.copernicus.eu/datasets/seasonal-original-single-levels?tab=download.\n",
        "\n",
        "Usage:\n",
        "This module is typically imported and used within larger scripts or applications for climate data processing\n",
        "and risk assessment. See individual function docstrings for specific usage instructions.\n",
        "\n",
        "**Note**:\n",
        "Ensure you have the **necessary permissions** and comply with the CDS data usage policies when using this module. You can view the terms and conditions at https://cds.climate.copernicus.eu/datasets/seasonal-original-single-levels?tab=download. You can find them at the bottom of the download page."
      ]
    },
    {
      "attachments": {},
      "cell_type": "markdown",
      "metadata": {},
      "source": [
        "### Setup and Installation (Google Colab Only)\n",
        "\n",
        "This section installs and configures all necessary dependencies for running the seasonal forecast module in Google Colab. If you are running this notebook locally, you should install these dependencies manually in your environment instead.\n",
        "Installed Dependencies:\n",
        "\n",
        "    - cdsapi: For accessing the Copernicus Climate Data Store (CDS)\n",
        "    - climada and climada-petals: For climate impact analysis\n",
        "    - The seasonal forecast module: For processing and analyzing seasonal forecasts\n",
        "\n"
      ]
    },
    {
      "attachments": {},
      "cell_type": "markdown",
      "metadata": {},
      "source": [
        "#### Install Copernicus Climate Data Store (CDS) API"
      ]
    },
    {
      "cell_type": "code",
      "execution_count": null,
      "metadata": {
        "colab": {
          "base_uri": "https://localhost:8080/"
        },
        "id": "3lEm2YIz-Gzf",
        "outputId": "58ea29cd-8db6-4794-87bc-ae0642404c5b"
      },
      "outputs": [
        {
          "name": "stdout",
          "output_type": "stream",
          "text": [
            "url: https://cds.climate.copernicus.eu/api\n",
            "key: 5df55c41-98f3-4e60-b751-9c8cd43e90c7\n"
          ]
        }
      ],
      "source": [
        "# Configure Copernicus API credentials (FOR DEMONSTRATION ONLY)\n",
        "# ⚠️ This API key is temporary and will not be available after this session.\n",
        "# If you already have your own CDS key, replace it and use it here.\n",
        "# To access data from the Copernicus Climate Data Store (CDS), you must use your personal API key.\n",
        "# Register at https://cds.climate.copernicus.eu and follow the setup instructions to obtain your key.\n",
        "\n",
        "url = 'url: https://cds.climate.copernicus.eu/api'\n",
        "key = 'key: 5df55c41-98f3-4e60-b751-9c8cd43e90c7'\n",
        "\n",
        "with open('/root/.cdsapirc', 'w') as f:\n",
        "    f.write('\\n'.join([url, key]))\n",
        "\n",
        "with open('/root/.cdsapirc') as f:\n",
        "    print(f.read())"
      ]
    },
    {
      "cell_type": "code",
      "execution_count": null,
      "metadata": {
        "colab": {
          "base_uri": "https://localhost:8080/"
        },
        "id": "G_FQhQ_F-GnJ",
        "outputId": "d261702a-e902-4821-c019-5993c913f078"
      },
      "outputs": [
        {
          "name": "stdout",
          "output_type": "stream",
          "text": [
            "Requirement already satisfied: cdsapi>=0.7.4 in /usr/local/lib/python3.11/site-packages (0.7.5)\n",
            "Requirement already satisfied: datapi in /usr/local/lib/python3.11/site-packages (from cdsapi>=0.7.4) (0.2.0)\n",
            "Requirement already satisfied: requests>=2.5.0 in /usr/local/lib/python3.11/site-packages (from cdsapi>=0.7.4) (2.31.0)\n",
            "Requirement already satisfied: tqdm in /usr/local/lib/python3.11/site-packages (from cdsapi>=0.7.4) (4.66.6)\n",
            "Requirement already satisfied: charset-normalizer<4,>=2 in /usr/local/lib/python3.11/site-packages (from requests>=2.5.0->cdsapi>=0.7.4) (3.4.1)\n",
            "Requirement already satisfied: idna<4,>=2.5 in /usr/local/lib/python3.11/site-packages (from requests>=2.5.0->cdsapi>=0.7.4) (3.10)\n",
            "Requirement already satisfied: urllib3<3,>=1.21.1 in /usr/local/lib/python3.11/site-packages (from requests>=2.5.0->cdsapi>=0.7.4) (2.3.0)\n",
            "Requirement already satisfied: certifi>=2017.4.17 in /usr/local/lib/python3.11/site-packages (from requests>=2.5.0->cdsapi>=0.7.4) (2025.1.31)\n",
            "Requirement already satisfied: attrs in /usr/local/lib/python3.11/site-packages (from datapi->cdsapi>=0.7.4) (25.1.0)\n",
            "Requirement already satisfied: multiurl>=0.3.2 in /usr/local/lib/python3.11/site-packages (from datapi->cdsapi>=0.7.4) (0.3.3)\n",
            "Requirement already satisfied: typing-extensions in /usr/local/lib/python3.11/site-packages (from datapi->cdsapi>=0.7.4) (4.12.2)\n",
            "Requirement already satisfied: pytz in /usr/local/lib/python3.11/site-packages (from multiurl>=0.3.2->datapi->cdsapi>=0.7.4) (2025.1)\n",
            "Requirement already satisfied: python-dateutil in /usr/local/lib/python3.11/site-packages (from multiurl>=0.3.2->datapi->cdsapi>=0.7.4) (2.9.0.post0)\n",
            "Requirement already satisfied: six>=1.5 in /usr/local/lib/python3.11/site-packages (from python-dateutil->multiurl>=0.3.2->datapi->cdsapi>=0.7.4) (1.17.0)\n"
          ]
        }
      ],
      "source": [
        "!pip install \"cdsapi>=0.7.4\""
      ]
    },
    {
      "cell_type": "code",
      "execution_count": null,
      "metadata": {
        "colab": {
          "base_uri": "https://localhost:8080/"
        },
        "id": "zY2AnA_f-G87",
        "outputId": "dbe454d6-932e-43ef-b2a2-d9ca8534033f"
      },
      "outputs": [
        {
          "name": "stderr",
          "output_type": "stream",
          "text": [
            "2025-02-28 14:50:08,616 DEBUG GET https://cds.climate.copernicus.eu/api/catalogue/v1/messages\n",
            "2025-02-28 14:50:09,184 DEBUG REPLY {\"messages\":[{\"id\":\"sites/cds/2024/2024-03-01-production-keycloak.md\",\"date\":\"2024-09-26T00:00:00\",\"summary\":null,\"url\":null,\"severity\":\"info\",\"content\":\"Watch our [Forum](https://forum.ecmwf.int/) for Announcements, news and other discussed topics.\",\"live\":true},{\"id\":\"sites/cds/2024/2024-06-17-beta-warning1.md\",\"date\":\"2024-06-16T00:00:00\",\"summary\":null,\"url\":null,\"severity\":\"warning\",\"content\":\"CDS API syntax is changed and some keys or parameter names may have also changed. To avoid requests failing, please use the \\\"Show API request code\\\" tool on the dataset Download Form to check you are using the correct syntax for your API request.\",\"live\":true}]}\n",
            "2025-02-28 14:50:09,185 INFO [2024-09-26T00:00:00] Watch our [Forum](https://forum.ecmwf.int/) for Announcements, news and other discussed topics.\n",
            "2025-02-28 14:50:09,187 WARNING [2024-06-16T00:00:00] CDS API syntax is changed and some keys or parameter names may have also changed. To avoid requests failing, please use the \"Show API request code\" tool on the dataset Download Form to check you are using the correct syntax for your API request.\n",
            "2025-02-28 14:50:09,187 DEBUG CDSAPI {'url': 'https://cds.climate.copernicus.eu/api', 'key': '5df55c41-98f3-4e60-b751-9c8cd43e90c7', 'quiet': False, 'verify': True, 'timeout': 60, 'progress': True, 'sleep_max': 120, 'retry_max': 500, 'delete': False, 'datapi_version': '0.2.0'}\n"
          ]
        }
      ],
      "source": [
        "import cdsapi\n",
        "c = cdsapi.Client(debug=True)"
      ]
    },
    {
      "cell_type": "code",
      "execution_count": null,
      "metadata": {
        "colab": {
          "base_uri": "https://localhost:8080/",
          "height": 140,
          "referenced_widgets": [
            "d65c5224fd6d4e4e83e289e8f2c1f0b5",
            "fdc9b6314eb14e7eb7de26370ba02f8d",
            "e42f46604c6549c99b4629708aebf3d7",
            "69fb77aa909947be815daefc2cbac43f",
            "fa2e86163a8d4162ad4b411f40427cc4",
            "e0d3e93b67ef40d49feb03a6faf136ea",
            "f86c51c30cbc4e66b41c25a61a2b04ef",
            "fcbb91fc1a914d68aadc290c2d047b0c",
            "833901bad8514843bd22b5f53d010745",
            "56d436c29aaf4e48a2dddc2682a913d8",
            "ed6f9b140015444084fb0354c7815687"
          ]
        },
        "id": "nckDwYDc-3B8",
        "outputId": "73a58a35-5d72-4ee1-e071-4889f0ee26ef"
      },
      "outputs": [
        {
          "name": "stderr",
          "output_type": "stream",
          "text": [
            "2025-02-28 14:50:09,753 INFO [2024-09-26T00:00:00] Watch our [Forum](https://forum.ecmwf.int/) for Announcements, news and other discussed topics.\n",
            "2025-02-28 14:50:09,754 WARNING [2024-06-16T00:00:00] CDS API syntax is changed and some keys or parameter names may have also changed. To avoid requests failing, please use the \"Show API request code\" tool on the dataset Download Form to check you are using the correct syntax for your API request.\n",
            "2025-02-28 14:50:10,305 INFO Request ID is 45485919-f75e-48c0-ab89-f04b4074c956\n",
            "2025-02-28 14:50:10,487 INFO status has been updated to accepted\n",
            "2025-02-28 14:50:24,612 INFO status has been updated to successful\n"
          ]
        },
        {
          "data": {
            "application/vnd.jupyter.widget-view+json": {
              "model_id": "d65c5224fd6d4e4e83e289e8f2c1f0b5",
              "version_major": 2,
              "version_minor": 0
            },
            "text/plain": [
              "1fd5a2b7ad40b8c614c78061a75d30d0.grib:   0%|          | 0.00/1.98M [00:00<?, ?B/s]"
            ]
          },
          "metadata": {},
          "output_type": "display_data"
        },
        {
          "data": {
            "application/vnd.google.colaboratory.intrinsic+json": {
              "type": "string"
            },
            "text/plain": [
              "'download.grib'"
            ]
          },
          "execution_count": 6,
          "metadata": {},
          "output_type": "execute_result"
        }
      ],
      "source": [
        "import cdsapi\n",
        "\n",
        "client = cdsapi.Client()\n",
        "\n",
        "dataset = 'reanalysis-era5-pressure-levels'\n",
        "request = {\n",
        "  'product_type': ['reanalysis'],\n",
        "  'variable': ['geopotential'],\n",
        "  'year': ['2024'],\n",
        "  'month': ['03'],\n",
        "  'day': ['01'],\n",
        "  'time': ['13:00'],\n",
        "  'pressure_level': ['1000'],\n",
        "  'data_format': 'grib',\n",
        "}\n",
        "target = 'download.grib'\n",
        "\n",
        "client.retrieve(dataset, request, target)"
      ]
    },
    {
      "attachments": {},
      "cell_type": "markdown",
      "metadata": {},
      "source": [
        "#### Install CLIMADA"
      ]
    },
    {
      "cell_type": "code",
      "execution_count": null,
      "metadata": {
        "colab": {
          "base_uri": "https://localhost:8080/"
        },
        "id": "v3OXMPIh_Fj5",
        "outputId": "15e9e343-91d3-4184-a168-4416b520492b"
      },
      "outputs": [
        {
          "name": "stdout",
          "output_type": "stream",
          "text": [
            "✨🍰✨ Everything looks OK!\n"
          ]
        }
      ],
      "source": [
        "# Install CondaColab to enable Conda package management in Google Colab\n",
        "# This allows installing `climada` using `mamba`\n",
        "!pip install -q condacolab\n",
        "import condacolab\n",
        "condacolab.install()"
      ]
    },
    {
      "cell_type": "code",
      "execution_count": null,
      "metadata": {
        "colab": {
          "base_uri": "https://localhost:8080/"
        },
        "id": "YJDxSLkZ_Wke",
        "outputId": "b5b7b6c6-c6cd-4925-f946-399d51098e60"
      },
      "outputs": [
        {
          "name": "stdout",
          "output_type": "stream",
          "text": [
            "\n",
            "Looking for: ['climada']\n",
            "\n",
            "conda-forge/linux-64                                        Using cache\n",
            "conda-forge/noarch                                          Using cache\n",
            "\n",
            "Pinned packages:\n",
            "  - python 3.11.*\n",
            "  - python 3.11.*\n",
            "  - python_abi 3.11.* *cp311*\n",
            "  - cuda-version 12.*\n",
            "\n",
            "\n",
            "Transaction\n",
            "\n",
            "  Prefix: /usr/local\n",
            "\n",
            "  All requested packages already installed\n",
            "\n",
            "\u001b[?25l\u001b[2K\u001b[0G\u001b[?25h"
          ]
        }
      ],
      "source": [
        "# Mamba install CLIMADA \n",
        "!mamba install climada"
      ]
    },
    {
      "cell_type": "code",
      "execution_count": null,
      "metadata": {
        "colab": {
          "base_uri": "https://localhost:8080/"
        },
        "id": "SwNHreEcAGyZ",
        "outputId": "6148f82b-65bb-4c5c-ea28-6fc810542d39"
      },
      "outputs": [
        {
          "name": "stdout",
          "output_type": "stream",
          "text": [
            "\n",
            "Looking for: ['climada-petals']\n",
            "\n",
            "conda-forge/linux-64                                        Using cache\n",
            "conda-forge/noarch                                          Using cache\n",
            "\n",
            "Pinned packages:\n",
            "  - python 3.11.*\n",
            "  - python 3.11.*\n",
            "  - python_abi 3.11.* *cp311*\n",
            "  - cuda-version 12.*\n",
            "\n",
            "\n",
            "Transaction\n",
            "\n",
            "  Prefix: /usr/local\n",
            "\n",
            "  All requested packages already installed\n",
            "\n",
            "\u001b[?25l\u001b[2K\u001b[0G\u001b[?25h"
          ]
        }
      ],
      "source": [
        "# Mamba install CLIMADA \n",
        "!mamba install climada-petals"
      ]
    },
    {
      "attachments": {},
      "cell_type": "markdown",
      "metadata": {},
      "source": [
        "#### Install the Copernicus Forecast module from the CLIMADA Petals repository"
      ]
    },
    {
      "cell_type": "code",
      "execution_count": null,
      "metadata": {
        "colab": {
          "base_uri": "https://localhost:8080/"
        },
        "id": "DMNDbGzpAX21",
        "outputId": "dae9d10b-e057-4b9c-f068-c2ea6b91b62c"
      },
      "outputs": [
        {
          "name": "stdout",
          "output_type": "stream",
          "text": [
            "Collecting git+https://github.com/CLIMADA-project/climada_petals.git@feature/copernicus_forecast\n",
            "  Cloning https://github.com/CLIMADA-project/climada_petals.git (to revision feature/copernicus_forecast) to /tmp/pip-req-build-d66yih3d\n",
            "  Running command git clone --filter=blob:none --quiet https://github.com/CLIMADA-project/climada_petals.git /tmp/pip-req-build-d66yih3d\n",
            "  Running command git checkout -b feature/copernicus_forecast --track origin/feature/copernicus_forecast\n",
            "  Switched to a new branch 'feature/copernicus_forecast'\n",
            "  Branch 'feature/copernicus_forecast' set up to track remote branch 'feature/copernicus_forecast' from 'origin'.\n",
            "  Resolved https://github.com/CLIMADA-project/climada_petals.git to commit d99862e852c8f640e7ad9efd2570ed711d7821fe\n",
            "  Preparing metadata (setup.py) ... \u001b[?25l\u001b[?25hdone\n",
            "Requirement already satisfied: boario in /usr/local/lib/python3.11/site-packages (from climada-petals==5.0.1.dev0) (0.6.0)\n",
            "Requirement already satisfied: climada>=5.0 in /usr/local/lib/python3.11/site-packages (from climada-petals==5.0.1.dev0) (5.0.0)\n",
            "Requirement already satisfied: cdsapi in /usr/local/lib/python3.11/site-packages (from climada-petals==5.0.1.dev0) (0.7.5)\n",
            "Requirement already satisfied: osm-flex in /usr/local/lib/python3.11/site-packages (from climada-petals==5.0.1.dev0) (1.1.1)\n",
            "Requirement already satisfied: pymrio in /usr/local/lib/python3.11/site-packages (from climada-petals==5.0.1.dev0) (0.5.4)\n",
            "Requirement already satisfied: rioxarray in /usr/local/lib/python3.11/site-packages (from climada-petals==5.0.1.dev0) (0.15.7)\n",
            "Requirement already satisfied: ruamel.yaml in /usr/local/lib/python3.11/site-packages (from climada-petals==5.0.1.dev0) (0.18.10)\n",
            "Requirement already satisfied: scikit-image in /usr/local/lib/python3.11/site-packages (from climada-petals==5.0.1.dev0) (0.25.0)\n",
            "Requirement already satisfied: xesmf in /usr/local/lib/python3.11/site-packages (from climada-petals==5.0.1.dev0) (0.8.7)\n",
            "Requirement already satisfied: bayesian-optimization in /usr/local/lib/python3.11/site-packages (from climada>=5.0->climada-petals==5.0.1.dev0) (1.5.1)\n",
            "Requirement already satisfied: bottleneck in /usr/local/lib/python3.11/site-packages (from climada>=5.0->climada-petals==5.0.1.dev0) (1.3.8)\n",
            "Requirement already satisfied: cartopy in /usr/local/lib/python3.11/site-packages (from climada>=5.0->climada-petals==5.0.1.dev0) (0.22.0)\n",
            "Requirement already satisfied: cfgrib in /usr/local/lib/python3.11/site-packages (from climada>=5.0->climada-petals==5.0.1.dev0) (0.9.9.1)\n",
            "Requirement already satisfied: contextily in /usr/local/lib/python3.11/site-packages (from climada>=5.0->climada-petals==5.0.1.dev0) (1.5.2)\n",
            "Requirement already satisfied: dask in /usr/local/lib/python3.11/site-packages (from climada>=5.0->climada-petals==5.0.1.dev0) (2024.8.0)\n",
            "Requirement already satisfied: deprecation in /usr/local/lib/python3.11/site-packages (from climada>=5.0->climada-petals==5.0.1.dev0) (2.1.0)\n",
            "Requirement already satisfied: geopandas in /usr/local/lib/python3.11/site-packages (from climada>=5.0->climada-petals==5.0.1.dev0) (0.14.4)\n",
            "Requirement already satisfied: h5py in /usr/local/lib/python3.11/site-packages (from climada>=5.0->climada-petals==5.0.1.dev0) (3.8.0)\n",
            "Requirement already satisfied: haversine in /usr/local/lib/python3.11/site-packages (from climada>=5.0->climada-petals==5.0.1.dev0) (2.8.1)\n",
            "Requirement already satisfied: matplotlib in /usr/local/lib/python3.11/site-packages (from climada>=5.0->climada-petals==5.0.1.dev0) (3.8.4)\n",
            "Requirement already satisfied: netcdf4 in /usr/local/lib/python3.11/site-packages (from climada>=5.0->climada-petals==5.0.1.dev0) (1.6.2)\n",
            "Requirement already satisfied: numba in /usr/local/lib/python3.11/site-packages (from climada>=5.0->climada-petals==5.0.1.dev0) (0.59.1)\n",
            "Requirement already satisfied: openpyxl in /usr/local/lib/python3.11/site-packages (from climada>=5.0->climada-petals==5.0.1.dev0) (3.1.0)\n",
            "Requirement already satisfied: overpy in /usr/local/lib/python3.11/site-packages (from climada>=5.0->climada-petals==5.0.1.dev0) (0.7)\n",
            "Requirement already satisfied: pandas in /usr/local/lib/python3.11/site-packages (from climada>=5.0->climada-petals==5.0.1.dev0) (2.1.4)\n",
            "Requirement already satisfied: pandas-datareader in /usr/local/lib/python3.11/site-packages (from climada>=5.0->climada-petals==5.0.1.dev0) (0.10.0)\n",
            "Requirement already satisfied: pathos in /usr/local/lib/python3.11/site-packages (from climada>=5.0->climada-petals==5.0.1.dev0) (0.3.3)\n",
            "Requirement already satisfied: peewee in /usr/local/lib/python3.11/site-packages (from climada>=5.0->climada-petals==5.0.1.dev0) (3.17.7)\n",
            "Requirement already satisfied: pillow in /usr/local/lib/python3.11/site-packages (from climada>=5.0->climada-petals==5.0.1.dev0) (11.1.0)\n",
            "Requirement already satisfied: pint in /usr/local/lib/python3.11/site-packages (from climada>=5.0->climada-petals==5.0.1.dev0) (0.23)\n",
            "Requirement already satisfied: pycountry in /usr/local/lib/python3.11/site-packages (from climada>=5.0->climada-petals==5.0.1.dev0) (22.3.5)\n",
            "Requirement already satisfied: pyproj in /usr/local/lib/python3.11/site-packages (from climada>=5.0->climada-petals==5.0.1.dev0) (3.5.0)\n",
            "Requirement already satisfied: rasterio in /usr/local/lib/python3.11/site-packages (from climada>=5.0->climada-petals==5.0.1.dev0) (1.3.6)\n",
            "Requirement already satisfied: salib in /usr/local/lib/python3.11/site-packages (from climada>=5.0->climada-petals==5.0.1.dev0) (1.4.8)\n",
            "Requirement already satisfied: scikit-learn in /usr/local/lib/python3.11/site-packages (from climada>=5.0->climada-petals==5.0.1.dev0) (1.4.2)\n",
            "Requirement already satisfied: seaborn in /usr/local/lib/python3.11/site-packages (from climada>=5.0->climada-petals==5.0.1.dev0) (0.13.2)\n",
            "Requirement already satisfied: statsmodels in /usr/local/lib/python3.11/site-packages (from climada>=5.0->climada-petals==5.0.1.dev0) (0.14.4)\n",
            "Requirement already satisfied: sparse in /usr/local/lib/python3.11/site-packages (from climada>=5.0->climada-petals==5.0.1.dev0) (0.15.5)\n",
            "Requirement already satisfied: tables in /usr/local/lib/python3.11/site-packages (from climada>=5.0->climada-petals==5.0.1.dev0) (3.7.0)\n",
            "Requirement already satisfied: tabulate in /usr/local/lib/python3.11/site-packages (from climada>=5.0->climada-petals==5.0.1.dev0) (0.9.0)\n",
            "Requirement already satisfied: tqdm in /usr/local/lib/python3.11/site-packages (from climada>=5.0->climada-petals==5.0.1.dev0) (4.66.6)\n",
            "Requirement already satisfied: xarray in /usr/local/lib/python3.11/site-packages (from climada>=5.0->climada-petals==5.0.1.dev0) (2024.1.1)\n",
            "Requirement already satisfied: xlrd in /usr/local/lib/python3.11/site-packages (from climada>=5.0->climada-petals==5.0.1.dev0) (2.0.1)\n",
            "Requirement already satisfied: xlsxwriter in /usr/local/lib/python3.11/site-packages (from climada>=5.0->climada-petals==5.0.1.dev0) (3.1.9)\n",
            "Requirement already satisfied: xmlrunner in /usr/local/lib/python3.11/site-packages (from climada>=5.0->climada-petals==5.0.1.dev0) (1.7.7)\n",
            "Requirement already satisfied: coloredlogs<16.0.0,>=15.0.1 in /usr/local/lib/python3.11/site-packages (from boario->climada-petals==5.0.1.dev0) (15.0.1)\n",
            "Requirement already satisfied: country-converter<2.0.0,>=1.0.0 in /usr/local/lib/python3.11/site-packages (from boario->climada-petals==5.0.1.dev0) (1.3)\n",
            "Requirement already satisfied: numpy<1.27 in /usr/local/lib/python3.11/site-packages (from boario->climada-petals==5.0.1.dev0) (1.26.4)\n",
            "Requirement already satisfied: odfpy<2.0.0,>=1.4.1 in /usr/local/lib/python3.11/site-packages (from boario->climada-petals==5.0.1.dev0) (1.4.1)\n",
            "Requirement already satisfied: progressbar2<5.0.0,>=4.2.0 in /usr/local/lib/python3.11/site-packages (from boario->climada-petals==5.0.1.dev0) (4.5.0)\n",
            "Requirement already satisfied: pyarrow>=11 in /usr/local/lib/python3.11/site-packages (from boario->climada-petals==5.0.1.dev0) (12.0.1)\n",
            "Requirement already satisfied: requests>=2.18 in /usr/local/lib/python3.11/site-packages (from pymrio->climada-petals==5.0.1.dev0) (2.31.0)\n",
            "Requirement already satisfied: docutils>=0.14 in /usr/local/lib/python3.11/site-packages (from pymrio->climada-petals==5.0.1.dev0) (0.21.2)\n",
            "Requirement already satisfied: faker>=18.4.0 in /usr/local/lib/python3.11/site-packages (from pymrio->climada-petals==5.0.1.dev0) (36.1.1)\n",
            "Requirement already satisfied: datapi in /usr/local/lib/python3.11/site-packages (from cdsapi->climada-petals==5.0.1.dev0) (0.2.0)\n",
            "Requirement already satisfied: gdal in /usr/local/lib/python3.11/site-packages (from osm-flex->climada-petals==5.0.1.dev0) (3.6.2)\n",
            "Requirement already satisfied: shapely>=2.0 in /usr/local/lib/python3.11/site-packages (from osm-flex->climada-petals==5.0.1.dev0) (2.0.1)\n",
            "Requirement already satisfied: packaging in /usr/local/lib/python3.11/site-packages (from rioxarray->climada-petals==5.0.1.dev0) (24.2)\n",
            "Requirement already satisfied: ruamel.yaml.clib>=0.2.7 in /usr/local/lib/python3.11/site-packages (from ruamel.yaml->climada-petals==5.0.1.dev0) (0.2.8)\n",
            "Requirement already satisfied: scipy>=1.11.2 in /usr/local/lib/python3.11/site-packages (from scikit-image->climada-petals==5.0.1.dev0) (1.12.0)\n",
            "Requirement already satisfied: networkx>=3.0 in /usr/local/lib/python3.11/site-packages (from scikit-image->climada-petals==5.0.1.dev0) (3.4.2)\n",
            "Requirement already satisfied: imageio!=2.35.0,>=2.33 in /usr/local/lib/python3.11/site-packages (from scikit-image->climada-petals==5.0.1.dev0) (2.37.0)\n",
            "Requirement already satisfied: tifffile>=2022.8.12 in /usr/local/lib/python3.11/site-packages (from scikit-image->climada-petals==5.0.1.dev0) (2023.8.12)\n",
            "Requirement already satisfied: lazy-loader>=0.4 in /usr/local/lib/python3.11/site-packages (from scikit-image->climada-petals==5.0.1.dev0) (0.4)\n",
            "Requirement already satisfied: cf-xarray>=0.5.1 in /usr/local/lib/python3.11/site-packages (from xesmf->climada-petals==5.0.1.dev0) (0.10.0)\n",
            "Requirement already satisfied: humanfriendly>=9.1 in /usr/local/lib/python3.11/site-packages (from coloredlogs<16.0.0,>=15.0.1->boario->climada-petals==5.0.1.dev0) (10.0)\n",
            "Requirement already satisfied: click>=8.1 in /usr/local/lib/python3.11/site-packages (from dask->climada>=5.0->climada-petals==5.0.1.dev0) (8.1.8)\n",
            "Requirement already satisfied: cloudpickle>=1.5.0 in /usr/local/lib/python3.11/site-packages (from dask->climada>=5.0->climada-petals==5.0.1.dev0) (3.1.1)\n",
            "Requirement already satisfied: fsspec>=2021.09.0 in /usr/local/lib/python3.11/site-packages (from dask->climada>=5.0->climada-petals==5.0.1.dev0) (2025.2.0)\n",
            "Requirement already satisfied: partd>=1.4.0 in /usr/local/lib/python3.11/site-packages (from dask->climada>=5.0->climada-petals==5.0.1.dev0) (1.4.2)\n",
            "Requirement already satisfied: pyyaml>=5.3.1 in /usr/local/lib/python3.11/site-packages (from dask->climada>=5.0->climada-petals==5.0.1.dev0) (6.0.2)\n",
            "Requirement already satisfied: toolz>=0.10.0 in /usr/local/lib/python3.11/site-packages (from dask->climada>=5.0->climada-petals==5.0.1.dev0) (1.0.0)\n",
            "Requirement already satisfied: importlib-metadata>=4.13.0 in /usr/local/lib/python3.11/site-packages (from dask->climada>=5.0->climada-petals==5.0.1.dev0) (7.2.1)\n",
            "Requirement already satisfied: tzdata in /usr/local/lib/python3.11/site-packages (from faker>=18.4.0->pymrio->climada-petals==5.0.1.dev0) (2025.1)\n",
            "Requirement already satisfied: contourpy>=1.0.1 in /usr/local/lib/python3.11/site-packages (from matplotlib->climada>=5.0->climada-petals==5.0.1.dev0) (1.3.1)\n",
            "Requirement already satisfied: cycler>=0.10 in /usr/local/lib/python3.11/site-packages (from matplotlib->climada>=5.0->climada-petals==5.0.1.dev0) (0.12.1)\n",
            "Requirement already satisfied: fonttools>=4.22.0 in /usr/local/lib/python3.11/site-packages (from matplotlib->climada>=5.0->climada-petals==5.0.1.dev0) (4.56.0)\n",
            "Requirement already satisfied: kiwisolver>=1.3.1 in /usr/local/lib/python3.11/site-packages (from matplotlib->climada>=5.0->climada-petals==5.0.1.dev0) (1.4.7)\n",
            "Requirement already satisfied: pyparsing>=2.3.1 in /usr/local/lib/python3.11/site-packages (from matplotlib->climada>=5.0->climada-petals==5.0.1.dev0) (3.2.1)\n",
            "Requirement already satisfied: python-dateutil>=2.7 in /usr/local/lib/python3.11/site-packages (from matplotlib->climada>=5.0->climada-petals==5.0.1.dev0) (2.9.0.post0)\n",
            "Requirement already satisfied: llvmlite<0.43,>=0.42.0dev0 in /usr/local/lib/python3.11/site-packages (from numba->climada>=5.0->climada-petals==5.0.1.dev0) (0.42.0)\n",
            "Requirement already satisfied: defusedxml in /usr/local/lib/python3.11/site-packages (from odfpy<2.0.0,>=1.4.1->boario->climada-petals==5.0.1.dev0) (0.7.1)\n",
            "Requirement already satisfied: et_xmlfile in /usr/local/lib/python3.11/site-packages (from openpyxl->climada>=5.0->climada-petals==5.0.1.dev0) (2.0.0)\n",
            "Requirement already satisfied: pytz>=2020.1 in /usr/local/lib/python3.11/site-packages (from pandas->climada>=5.0->climada-petals==5.0.1.dev0) (2025.1)\n",
            "Requirement already satisfied: python-utils>=3.8.1 in /usr/local/lib/python3.11/site-packages (from progressbar2<5.0.0,>=4.2.0->boario->climada-petals==5.0.1.dev0) (3.9.1)\n",
            "Requirement already satisfied: certifi in /usr/local/lib/python3.11/site-packages (from pyproj->climada>=5.0->climada-petals==5.0.1.dev0) (2025.1.31)\n",
            "Requirement already satisfied: affine in /usr/local/lib/python3.11/site-packages (from rasterio->climada>=5.0->climada-petals==5.0.1.dev0) (2.4.0)\n",
            "Requirement already satisfied: attrs in /usr/local/lib/python3.11/site-packages (from rasterio->climada>=5.0->climada-petals==5.0.1.dev0) (25.1.0)\n",
            "Requirement already satisfied: cligj>=0.5 in /usr/local/lib/python3.11/site-packages (from rasterio->climada>=5.0->climada-petals==5.0.1.dev0) (0.7.2)\n",
            "Requirement already satisfied: snuggs>=1.4.1 in /usr/local/lib/python3.11/site-packages (from rasterio->climada>=5.0->climada-petals==5.0.1.dev0) (1.4.7)\n",
            "Requirement already satisfied: click-plugins in /usr/local/lib/python3.11/site-packages (from rasterio->climada>=5.0->climada-petals==5.0.1.dev0) (1.1.1)\n",
            "Requirement already satisfied: setuptools in /usr/local/lib/python3.11/site-packages (from rasterio->climada>=5.0->climada-petals==5.0.1.dev0) (65.6.3)\n",
            "Requirement already satisfied: charset-normalizer<4,>=2 in /usr/local/lib/python3.11/site-packages (from requests>=2.18->pymrio->climada-petals==5.0.1.dev0) (3.4.1)\n",
            "Requirement already satisfied: idna<4,>=2.5 in /usr/local/lib/python3.11/site-packages (from requests>=2.18->pymrio->climada-petals==5.0.1.dev0) (3.10)\n",
            "Requirement already satisfied: urllib3<3,>=1.21.1 in /usr/local/lib/python3.11/site-packages (from requests>=2.18->pymrio->climada-petals==5.0.1.dev0) (2.3.0)\n",
            "Requirement already satisfied: colorama<0.5.0,>=0.4.6 in /usr/local/lib/python3.11/site-packages (from bayesian-optimization->climada>=5.0->climada-petals==5.0.1.dev0) (0.4.6)\n",
            "Requirement already satisfied: joblib>=1.2.0 in /usr/local/lib/python3.11/site-packages (from scikit-learn->climada>=5.0->climada-petals==5.0.1.dev0) (1.4.2)\n",
            "Requirement already satisfied: threadpoolctl>=2.0.0 in /usr/local/lib/python3.11/site-packages (from scikit-learn->climada>=5.0->climada-petals==5.0.1.dev0) (3.5.0)\n",
            "Requirement already satisfied: pyshp>=2.1 in /usr/local/lib/python3.11/site-packages (from cartopy->climada>=5.0->climada-petals==5.0.1.dev0) (2.3.1)\n",
            "Requirement already satisfied: eccodes>=0.9.8 in /usr/local/lib/python3.11/site-packages (from cfgrib->climada>=5.0->climada-petals==5.0.1.dev0) (1.5.1)\n",
            "Requirement already satisfied: geopy in /usr/local/lib/python3.11/site-packages (from contextily->climada>=5.0->climada-petals==5.0.1.dev0) (2.4.1)\n",
            "Requirement already satisfied: mercantile in /usr/local/lib/python3.11/site-packages (from contextily->climada>=5.0->climada-petals==5.0.1.dev0) (1.2.1)\n",
            "Requirement already satisfied: xyzservices in /usr/local/lib/python3.11/site-packages (from contextily->climada>=5.0->climada-petals==5.0.1.dev0) (2025.1.0)\n",
            "Requirement already satisfied: multiurl>=0.3.2 in /usr/local/lib/python3.11/site-packages (from datapi->cdsapi->climada-petals==5.0.1.dev0) (0.3.3)\n",
            "Requirement already satisfied: typing-extensions in /usr/local/lib/python3.11/site-packages (from datapi->cdsapi->climada-petals==5.0.1.dev0) (4.12.2)\n",
            "Requirement already satisfied: fiona>=1.8.21 in /usr/local/lib/python3.11/site-packages (from geopandas->climada>=5.0->climada-petals==5.0.1.dev0) (1.9.1)\n",
            "Requirement already satisfied: cftime in /usr/local/lib/python3.11/site-packages (from netcdf4->climada>=5.0->climada-petals==5.0.1.dev0) (1.6.4)\n",
            "Requirement already satisfied: lxml in /usr/local/lib/python3.11/site-packages (from pandas-datareader->climada>=5.0->climada-petals==5.0.1.dev0) (4.9.2)\n",
            "Requirement already satisfied: ppft>=1.7.6.9 in /usr/local/lib/python3.11/site-packages (from pathos->climada>=5.0->climada-petals==5.0.1.dev0) (1.7.6.9)\n",
            "Requirement already satisfied: dill>=0.3.9 in /usr/local/lib/python3.11/site-packages (from pathos->climada>=5.0->climada-petals==5.0.1.dev0) (0.3.9)\n",
            "Requirement already satisfied: pox>=0.3.5 in /usr/local/lib/python3.11/site-packages (from pathos->climada>=5.0->climada-petals==5.0.1.dev0) (0.3.5)\n",
            "Requirement already satisfied: multiprocess>=0.70.17 in /usr/local/lib/python3.11/site-packages (from pathos->climada>=5.0->climada-petals==5.0.1.dev0) (0.70.17)\n",
            "Requirement already satisfied: patsy>=0.5.6 in /usr/local/lib/python3.11/site-packages (from statsmodels->climada>=5.0->climada-petals==5.0.1.dev0) (1.0.1)\n",
            "Requirement already satisfied: numexpr>=2.6.2 in /usr/local/lib/python3.11/site-packages (from tables->climada>=5.0->climada-petals==5.0.1.dev0) (2.9.0)\n",
            "Requirement already satisfied: cffi in /usr/local/lib/python3.11/site-packages (from eccodes>=0.9.8->cfgrib->climada>=5.0->climada-petals==5.0.1.dev0) (1.17.1)\n",
            "Requirement already satisfied: findlibs in /usr/local/lib/python3.11/site-packages (from eccodes>=0.9.8->cfgrib->climada>=5.0->climada-petals==5.0.1.dev0) (0.0.5)\n",
            "Requirement already satisfied: munch>=2.3.2 in /usr/local/lib/python3.11/site-packages (from fiona>=1.8.21->geopandas->climada>=5.0->climada-petals==5.0.1.dev0) (4.0.0)\n",
            "Requirement already satisfied: zipp>=0.5 in /usr/local/lib/python3.11/site-packages (from importlib-metadata>=4.13.0->dask->climada>=5.0->climada-petals==5.0.1.dev0) (3.21.0)\n",
            "Requirement already satisfied: locket in /usr/local/lib/python3.11/site-packages (from partd>=1.4.0->dask->climada>=5.0->climada-petals==5.0.1.dev0) (1.0.0)\n",
            "Requirement already satisfied: six>=1.5 in /usr/local/lib/python3.11/site-packages (from python-dateutil>=2.7->matplotlib->climada>=5.0->climada-petals==5.0.1.dev0) (1.17.0)\n",
            "Requirement already satisfied: geographiclib<3,>=1.52 in /usr/local/lib/python3.11/site-packages (from geopy->contextily->climada>=5.0->climada-petals==5.0.1.dev0) (2.0)\n",
            "Requirement already satisfied: pycparser in /usr/local/lib/python3.11/site-packages (from cffi->eccodes>=0.9.8->cfgrib->climada>=5.0->climada-petals==5.0.1.dev0) (2.22)\n"
          ]
        }
      ],
      "source": [
        "# This fetches the latest version from the `feature/copernicus_forecast` branch\n",
        "!pip install git+https://github.com/CLIMADA-project/climada_petals.git@feature/copernicus_forecast"
      ]
    },
    {
      "cell_type": "code",
      "execution_count": null,
      "metadata": {
        "id": "rhAzqHbMBPzf"
      },
      "outputs": [],
      "source": [
        "# Import packages\n",
        "\n",
        "import warnings\n",
        "import datetime as dt\n",
        "warnings.filterwarnings('ignore')\n",
        "\n",
        "from climada.hazard import Hazard\n",
        "from climada_petals.hazard.copernicus_interface.create_seasonal_forecast_hazard import SeasonalForecast, month_name_to_number\n",
        "\n",
        "### get bounds functions under development in climada\n",
        "if hasattr(__import__(\"climada\").util.coordinates, \"bounding_box_global\"):\n",
        "    from climada.util.coordinates import (\n",
        "        bounding_box_from_cardinal_bounds, bounding_box_global, bounding_box_from_countries\n",
        "        )\n",
        "else:\n",
        "    from climada_petals.hazard.copernicus_interface.temporary_bounding_box_functions import (\n",
        "        bounding_box_from_cardinal_bounds, bounding_box_global, bounding_box_from_countries\n",
        "        )"
      ]
    },
    {
      "attachments": {},
      "cell_type": "markdown",
      "metadata": {},
      "source": [
        "### Set up module parameters\n",
        "\n",
        "To configure the module for working with Copernicus forecast data and converting it into a hazard object for CLIMADA, you will need to define several essential parameters. These settings are crucial as they specify the type of data to be retrieved, the format, the forecast period, and the geographical area of interest. These parameters influence how the forecast data is processed and transformed into a hazard object.\n",
        "\n",
        "Below, we outline these parameters and use an example for the \"Maximum Temperature\" index to demonstrate the seasonal forecast functionality.\n",
        "\n",
        "To learn more about what these parameters entail and their significance, please refer to the [documentation on the CDS webpage](https://cds.climate.copernicus.eu/datasets/seasonal-original-single-levels?tab=overview).\n",
        "\n",
        "#### Overview of parameters\n",
        "\n",
        "**index_metric**: Defines the type of index to be calculated. The current options available are 'HIA' (Heat Index Adjusted), 'HIS' (Heat Index Simplified), 'Tmean' (Mean Temperature), 'Tmin' (Minimum Temperature), 'Tmax' (Maximum Temperature), 'HW' (Heat Wave), 'TR' (Tropical Nights), 'TX30' (Hot Days), 'HUM' (Humidex), 'RH' (Relative Humidity), 'AT' (Apparent Temperature), and 'WBGT' (Wet Bulb Globe Temperature (Simple)).\n",
        "\n",
        "**Heat Wave Parameters (specific to \"HW\" hazard)**: If index_metric is set to 'HW' for heat wave calculations, additional parameters can be specified to fine-tune the heat wave detection:\n",
        "\n",
        "- threshold: Temperature threshold above which days are considered part of a heat wave. Default is 27°C.\n",
        "- min_duration: Minimum number of consecutive days above the threshold required to define a heat wave event. Default is 3 days.\n",
        "- max_gap: Maximum allowable gap (in days) between two heat wave events to consider them as one single event. Default is 0 days.\n",
        "\n",
        "**Tropical Nights Parameters (specific to \"TR\" hazard)**: If index_metric is set to 'TR' for tropical nights, an additional parameter can be specified to set the threshold:\n",
        "\n",
        "- threshold: Nighttime temperature threshold, above which a night is considered \"tropical.\" Default is 20°C.\n",
        "\n",
        "**format** : Specifies the format of the data to be downloaded, \"grib\" or \"netcdf\". Copernicus do **NOT** recommended netcdf format for operational workflows since conversion to netcdf is considered experimental. [More information here](https://confluence.ecmwf.int/display/CKB/GRIB+to+netCDF+conversion+on+new+CDS+and+ADS+systems).\n",
        "\n",
        "**originating_centre**: Identifies the source of the data. A standard choice is \"dwd\" (German Weather Service), one of eight providers including ECMWF, UK Met Office, Météo France, CMCC, NCEP, JMA, and ECCC.\n",
        "\n",
        "**system**: Refers to a specific model or configuration used for forecasts. In this script, the default value is \"21,\" which corresponds to the GCSF (German Climate Forecast System) [version 2.1](https://agupubs.onlinelibrary.wiley.com/doi/full/10.1029/2020MS002101). More details can be found in the [CDS documentation](https://cds-beta.climate.copernicus.eu/datasets/seasonal-original-single-levels?tab=documentation).\n",
        "\n",
        "**year_list**: A list of years for which data should be downloaded and processed.\n",
        "\n",
        "**initiation_month**: A list of the months in which the forecasts are initiated. Example: [\"March\", \"April\"]. \n",
        "\n",
        "**lead_time_months**: Specifies the months relative to the forecast's initiation month for which the data is forecasted. Example: [\"June\", \"August\"] indicates forecasts for three months: June, July, and August. The maximum available period is 7 months.\n",
        "\n",
        "**Important**: When an initiation month is in one year and the forecast period in the next, the system recognizes the forecast extends beyond the initial year. Data is retrieved based on the initiation month, with lead times covering the following year. The forecast is stored under the initiation year’s directory, ensuring consistency while spanning both years.\n",
        "\n",
        "TBD must be adapted **area_selection**: This determines the geographical area for which the data should be downloaded. It can be set to\n",
        "- \"global\" (gobal data is downloaded)\n",
        "- a list of ISO alpha-3 codes for different countries, e.g., [\"DEU\", \"CHE\"] for Germany and Switzerland. See this [wikipedia page](https://en.wikipedia.org/wiki/ISO_3166-1_alpha-3) for the country codes. Note that the **joint region** will be downloaded and processed, i.e., handling data for [\"DEU\", \"CHE\"] and then for [\"CHE\"] will download and generate two sets of data.\n",
        "- a list of four numbers corresponding to the geographical bounds (in degrees; EPSG:4326), specified as [north, west, south, east]. \n",
        "\n",
        "**overwrite**: Boolean flag that, when set to True, forces the system to redownload and reprocess existing files."
      ]
    },
    {
      "cell_type": "code",
      "execution_count": null,
      "metadata": {
        "colab": {
          "base_uri": "https://localhost:8080/"
        },
        "id": "JZymN8KFBVpL",
        "outputId": "a6e4963f-efff-4fac-b5ae-a8c846cdc56c"
      },
      "outputs": [
        {
          "name": "stdout",
          "output_type": "stream",
          "text": [
            "Explanation for Tmax: Maximum Temperature: Tracks the highest temperature recorded over a specified period.\n",
            "Required variables: 2m_temperature\n"
          ]
        }
      ],
      "source": [
        "# We define above parameters for an example\n",
        "index_metric = \"Tmax\"\n",
        "format = \"grib\"  # 'grib' or 'netcdf'\n",
        "originating_centre =  \"dwd\"\n",
        "system =  \"21\"\n",
        "valid_period = [\"February\", \"March\"]\n",
        "year_list = [2015]\n",
        "initiation_month = [\"January\"]\n",
        "overwrite = False\n",
        "\n",
        "# global bounding box\n",
        "# bounds = bounding_box_global()\n",
        "# input cardinal bounds\n",
        "# bounds = bounding_box_from_cardinal_bounds(northern=49, eastern=20, southern=40, western=10)\n",
        "# input country ISO codes\n",
        "bounds = bounding_box_from_countries([\"MLT\"])\n",
        "\n",
        "# Parameters for Heat Waves\n",
        "hw_threshold = 27\n",
        "hw_min_duration = 3\n",
        "hw_max_gap = 0\n",
        "\n",
        "# Parameters for Tropical Nights\n",
        "threshold_tr = 20\n",
        "\n",
        "# Describe the selected climate index and the associated input data\n",
        "handler = SeasonalForecast(\n",
        "    index_metric=index_metric,\n",
        "    year_list=year_list,\n",
        "    valid_period=valid_period,\n",
        "    initiation_month=initiation_month,\n",
        "    bounds=bounds,\n",
        "    format=format,\n",
        "    originating_centre=originating_centre,\n",
        "    system=system,\n",
        "    )\n",
        "\n",
        "handler.explain_index()"
      ]
    },
    {
      "attachments": {},
      "cell_type": "markdown",
      "metadata": {},
      "source": [
        "### Download and Process Data\n",
        "\n",
        "The `handler.download_and_process_data` method in CLIMADA efficiently retrieves and organizes Copernicus forecast data. It checks for existing files to avoid redundant downloads, stores data by format (grib or netCDF), year, month. Then the files are processed for further analysis, such as calculating climate indices or creating hazard objects within CLIMADA. Here are the aspects of this process:\n",
        "\n",
        "- **Data Download**: The method downloads the forecast data for the selected years, months, and regions. The data is retrieved in **grib** or **netCDF** formats, which are commonly used for storing meteorological data. If the required files already exist in the specified directories, the system will skip downloading them, as indicated by the log messages such as:  \n",
        "  *\"Corresponding grib file SYSTEM_DIR/copernicus_data/seasonal_forecasts/dwd/2022/init05/valid05_06/downloaded_data/grib/Tmax_boundsW-110_S-56_E-65_N-16.grib already exists.\"* \n",
        "\n",
        "\n",
        "- **Data Processing**: After downloading (or confirming the existence of) the files, the system converts them into daily **netCDF** files. This format suseful for working with multi-dimensional climate data. The log messages confirm the existence or creation of these files, for example:  \n",
        "  *\"Daily file SYSTEM_DIR/copernicus_data/seasonal_forecasts/dwd/2022/init05/valid05_06/processed_data/Tmax_boundsW-110_S-56_E-65_N-16.nc already exists.\"*\n",
        "\n",
        "- **Geographic and Temporal Focus**: The files are generated for a specific time frame (e.g., June and July 2022) and a predefined geographic region, as specified by the parameters such as `bounds`, `month_list`, and `year_list`. This ensures that only the selected data for your analysis is downloaded and processed.\n",
        "\n",
        "- **Data Completeness**: Messages like \"already exists\" ensure that you do not redundantly download or process data, saving time and computing resources. However, if the data files are missing, they will be downloaded and processed as necessary."
      ]
    },
    {
      "cell_type": "code",
      "execution_count": null,
      "metadata": {
        "colab": {
          "base_uri": "https://localhost:8080/",
          "height": 241,
          "referenced_widgets": [
            "5759f7dd7e3a4245b038b4e38a5bf759",
            "4ce784cbeb4c4121b05bc19b9dc0cbf1",
            "c831e28d8ba148b19b35eb7e3b03fa41",
            "2553550cffc14f2fbb6acdd314a671a9",
            "db6f0c7f7a974aa5b4afc806fe8f0e52",
            "fe31caacab3345008e51f05f992bcbd3",
            "dac15540b4264c6a9b73ec3e37b29285",
            "7570813855bc4e24956e7de6b81646c5",
            "ca7aefd425ef4bb191cb6765219e959c",
            "221d4a83286841d3b8574623363f8024",
            "f49a0e5333f646e0816c1585dcaf857d"
          ]
        },
        "id": "XoVtweoyBfaU",
        "outputId": "d10816fa-c0c1-4ffe-e0c8-7b6a865cdb67"
      },
      "outputs": [
        {
          "name": "stderr",
          "output_type": "stream",
          "text": [
            "2025-02-28 14:54:08,639 INFO [2024-09-26T00:00:00] Watch our [Forum](https://forum.ecmwf.int/) for Announcements, news and other discussed topics.\n",
            "2025-02-28 14:54:08,641 WARNING [2024-06-16T00:00:00] CDS API syntax is changed and some keys or parameter names may have also changed. To avoid requests failing, please use the \"Show API request code\" tool on the dataset Download Form to check you are using the correct syntax for your API request.\n",
            "2025-02-28 14:54:10,329 INFO Request ID is 4d3fd72b-816d-4895-8ce5-c5b1d7f492ac\n",
            "2025-02-28 14:54:10,530 INFO status has been updated to accepted\n",
            "2025-02-28 14:54:19,449 INFO status has been updated to running\n",
            "2025-02-28 14:58:31,253 INFO status has been updated to successful\n"
          ]
        },
        {
          "data": {
            "application/vnd.jupyter.widget-view+json": {
              "model_id": "5759f7dd7e3a4245b038b4e38a5bf759",
              "version_major": 2,
              "version_minor": 0
            },
            "text/plain": [
              "3d1f1805149be0c6684b5a8f9894acf6.grib:   0%|          | 0.00/39.0M [00:00<?, ?B/s]"
            ]
          },
          "metadata": {},
          "output_type": "display_data"
        },
        {
          "data": {
            "text/plain": [
              "{'downloaded_data': {'2015_init01_valid02_03': PosixPath('/root/climada/data/copernicus_data/seasonal_forecasts/dwd/2015/init01/valid02_03/downloaded_data/grib/Tmax_boundsW-110_S-56_E-65_N-16.grib')},\n",
              " 'processed_data': {'2015_init01_valid02_03': PosixPath('/root/climada/data/copernicus_data/seasonal_forecasts/dwd/2015/init01/valid02_03/processed_data/Tmax_boundsW-110_S-56_E-65_N-16.nc')}}"
            ]
          },
          "execution_count": 14,
          "metadata": {},
          "output_type": "execute_result"
        }
      ],
      "source": [
        "# Download and process data\n",
        "handler.download_and_process_data()"
      ]
    },
    {
      "attachments": {},
      "cell_type": "markdown",
      "metadata": {},
      "source": [
        "### Calculate Climate Indices\n",
        "\n",
        "When you use the `handler.calculate_index` method in CLIMADA to compute specific climate indices (such as Maximum Temperature), the generated output is saved and organized in a structured format for further analysis. Here some details:\n",
        "\n",
        "- **Index Calculation**: The method processes seasonal forecast data to compute the selected index for the chosen years, months, and regions. This index represents a specific climate condition, such as the number of Maximum Temperature (\"Tmax\") over the forecast period, as defined in the parameters.\n",
        "\n",
        "- **Data Storage**: The calculated index data is saved in **netCDF** format. These files are automatically saved in directories specific to the index and time period. The file paths are printed below the processing steps. For example, the computed index values are stored in:  \n",
        "  *\"SYSTEM_DIR/copernicus_data/seasonal_forecasts/dwd/2022/init05/valid05_06/indices/Tmax/Tmax_boundsW-110_S-56_E-65_N-16_daily.nc\"*. \n",
        "\n",
        "  Similarly, the statistics of the index (e.g., mean, max, min, std) are saved in:  \n",
        "  *\"SYSTEM_DIR/copernicus_data/seasonal_forecasts/dwd/2022/init05/valid05_06/indices/Tmax/Tmax_boundsW-110_S-56_E-65_N-16_stats.nc\"*. \n",
        "  These files ensure that both the raw indices and their statistical summaries are available for detailed analysis.\n",
        "  \n",
        "  Each file contains data for a specific month and geographic region, as defined in the parameters. This allows you to analyze how the selected climate index varies over time and across different locations.\n",
        "\n",
        "- **Completeness of Data Processing**: Messages 'Index Tmax successfully calculated and saved for...' confirm the successful calculation and storage of the index, ensuring that all requested data has been processed and saved correctly."
      ]
    },
    {
      "cell_type": "code",
      "execution_count": null,
      "metadata": {
        "colab": {
          "base_uri": "https://localhost:8080/"
        },
        "id": "-YkOT5iREfHg",
        "outputId": "c452143d-8bf1-4a56-df52-514369a07713"
      },
      "outputs": [
        {
          "data": {
            "text/plain": [
              "{'2015_init01_valid02_03': {'daily': PosixPath('/root/climada/data/copernicus_data/seasonal_forecasts/dwd/2015/init01/valid02_03/indices/Tmax/Tmax_boundsW-110_S-56_E-65_N-16_daily.nc'),\n",
              "  'monthly': PosixPath('/root/climada/data/copernicus_data/seasonal_forecasts/dwd/2015/init01/valid02_03/indices/Tmax/Tmax_boundsW-110_S-56_E-65_N-16_monthly.nc'),\n",
              "  'stats': PosixPath('/root/climada/data/copernicus_data/seasonal_forecasts/dwd/2015/init01/valid02_03/indices/Tmax/Tmax_boundsW-110_S-56_E-65_N-16_stats.nc')}}"
            ]
          },
          "execution_count": 15,
          "metadata": {},
          "output_type": "execute_result"
        }
      ],
      "source": [
        "# Calculate index\n",
        "handler.calculate_index(hw_threshold=hw_threshold, hw_min_duration=hw_min_duration, hw_max_gap=hw_max_gap)"
      ]
    },
    {
      "attachments": {},
      "cell_type": "markdown",
      "metadata": {},
      "source": [
        "### Calculate a Hazard Object\n",
        "\n",
        "When you use the `handler.process_and_save_hazards` method in CLIMADA to convert processed index from Copernicus forecast data into a hazard object:\n",
        "\n",
        "- **Hazard Object Creation**: The method processes seasonal forecast data for specified years and months, converting these into hazard objects. These objects encapsulate potential risks associated with specific weather events or conditions, such as Maximum Temperature ('Tmax') indicated in the parameters, over the forecast period.\n",
        "\n",
        "- **Data Storage**: The hazard data for each ensemble member of the forecast is saved as HDF5 files. These files are automatically stored in specific directories corresponding to each month and type of hazard. The file paths are printed below the processing steps. For example, *\"/SYSTEM_DIR/copernicus_data/seasonal_forecasts/dwd/2022/init05/valid05_06/hazard/Tmax/Tmax_boundsW-110_S-56_E-65_N-16.hdf5\"*.\n",
        " HDF5 is a versatile data model that efficiently stores large volumes of complex data.\n",
        " \n",
        " Each file is specific to a particular month and hazard scenario ('Tmax' in this case) and covers all ensemble members for that forecast period, aiding in detailed risk analysis.\n",
        "\n",
        "- **Completeness of Data Processing**: Messages like 'Completed processing for 2022-07. Data saved in...' confirm the successful processing and storage of the hazard data for that period, ensuring that all requested data has been properly handled and stored.\n",
        "\n",
        "#### Visualizing the Calculated Hazard Object\n",
        "\n",
        "Once the hazard object has been successfully calculated, the last element created is printed for visualization. This is important for several reasons:\n",
        "\n",
        "- **Initial Data Inspection**: The visualization allows you to view a slice of the forecast data, providing a quick check of the results. This initial glimpse helps you verify that the data processing was successful and provides insights into the distribution of the hazard (in this case, Maximum Temperature) across the area of interest.\n",
        "\n",
        "- **Geographic Accuracy**: The map helps you verify if the correct geographic region was processed and plotted. This is particularly useful as it allows immediate feedback on whether the user-defined boundaries or selected areas (e.g., Germany and Switzerland) were captured correctly.\n",
        "\n",
        "- **Data Quality Check**: Visualizing the output also serves as a preliminary quality check, allowing you to detect any unexpected results or anomalies in the data. For instance, the color bar indicating the \"Intensity (days)\" gives an indication of how the hazard index is distributed across the mapped area.\n",
        "\n",
        "- **Quick Workflow Testing**: This step is essential for testing the entire workflow, ensuring that the process is working as expected from data download, processing, and hazard object creation to visualization.\n",
        "\n",
        "This output provides a structured dataset ready for further analysis within the CLIMADA framework, allowing for the evaluation of potential impacts and the planning of mitigation strategies. "
      ]
    },
    {
      "cell_type": "code",
      "execution_count": null,
      "metadata": {
        "colab": {
          "base_uri": "https://localhost:8080/"
        },
        "id": "y78UZXsFEtsm",
        "outputId": "bfa2000c-4343-46e9-e05d-c70aa574efdf"
      },
      "outputs": [
        {
          "data": {
            "text/plain": [
              "{'2015_init01_valid02_03': PosixPath('/root/climada/data/copernicus_data/seasonal_forecasts/dwd/2015/init01/valid02_03/hazard/Tmax/Tmax_boundsW-110_S-56_E-65_N-16.hdf5')}"
            ]
          },
          "execution_count": 16,
          "metadata": {},
          "output_type": "execute_result"
        }
      ],
      "source": [
        "handler.save_index_to_hazard()"
      ]
    },
    {
      "attachments": {},
      "cell_type": "markdown",
      "metadata": {},
      "source": [
        "## Example for reading and plotting hazard\n",
        "\n",
        "The saved hazard file can then be read and processed by standard CLIMADA methods. For instance, below, we load the hazard for the last month and plot the intensity per grid point maximized over all forecast ensemble members."
      ]
    },
    {
      "cell_type": "code",
      "execution_count": null,
      "metadata": {
        "colab": {
          "base_uri": "https://localhost:8080/",
          "height": 727
        },
        "id": "0T06XjbwE3Uy",
        "outputId": "4326c833-4059-469a-986f-304a5d9b97f7"
      },
      "outputs": [
        {
          "name": "stdout",
          "output_type": "stream",
          "text": [
            "Available Dates Across Members: ['2015-02-01', '2015-03-01']\n",
            "Selected Date for Plotting: 2015-03-01\n"
          ]
        },
        {
          "data": {
            "image/png": "[encoded data removed]",
            "text/plain": [
              "<Figure size 900x1300 with 2 Axes>"
            ]
          },
          "metadata": {},
          "output_type": "display_data"
        }
      ],
      "source": [
        "# load an example hazard\n",
        "initiation_month_str = f\"{month_name_to_number(initiation_month[0]):02d}\"\n",
        "forecast_month_str = f\"{handler.valid_period_str[-2:]}\"  # Last month in valid period\n",
        "forecast_year =  year_list[0]\n",
        "if int(initiation_month_str) > int(forecast_month_str):\n",
        "    forecast_year += 1  # Forecast extends to the next year\n",
        "\n",
        "# Load the hazard and plot intensity for the selected grid, maximized over ensemble\n",
        "path_to_hazard = handler.get_pipeline_path(forecast_year, initiation_month_str, \"hazard\")\n",
        "haz = Hazard.from_hdf5(path_to_hazard)\n",
        "\n",
        "if haz:\n",
        "    available_dates = sorted(set(haz.date))  # Remove duplicates and sort\n",
        "    readable_dates = [dt.datetime.fromordinal(d).strftime('%Y-%m-%d') for d in available_dates] # Convert ordinal dates to ISO 8601 date format (YYYY-MM-DD)\n",
        "    print(\"Available Dates Across Members:\", readable_dates)  # Print only unique dates\n",
        "\n",
        "    # Find the closest date in the dataset\n",
        "    target_date = dt.datetime(forecast_year, int(forecast_month_str), 1).toordinal()\n",
        "    closest_date = min(available_dates, key=lambda x: abs(x - target_date))\n",
        "    closest_date_str = dt.datetime.fromordinal(closest_date).strftime('%Y-%m-%d')\n",
        "\n",
        "    # Plot intensity for the selected event\n",
        "    print(f\"Selected Date for Plotting: {closest_date_str}\")\n",
        "    haz.select(date=[closest_date, closest_date]).plot_intensity(event=0, smooth=False)\n",
        "else:\n",
        "    print(\"No hazard data found for the selected period.\")"
      ]
    },
    {
      "cell_type": "code",
      "execution_count": null,
      "metadata": {
        "id": "5k3Ww50fFRrV"
      },
      "outputs": [],
      "source": []
    }
  ],
  "metadata": {
    "colab": {
      "provenance": []
    },
    "kernelspec": {
      "display_name": "Python 3",
      "name": "python3"
    },
    "language_info": {
      "name": "python"
    },
    "widgets": {
      "application/vnd.jupyter.widget-state+json": {
        "221d4a83286841d3b8574623363f8024": {
          "model_module": "@jupyter-widgets/base",
          "model_module_version": "1.2.0",
          "model_name": "LayoutModel",
          "state": {
            "_model_module": "@jupyter-widgets/base",
            "_model_module_version": "1.2.0",
            "_model_name": "LayoutModel",
            "_view_count": null,
            "_view_module": "@jupyter-widgets/base",
            "_view_module_version": "1.2.0",
            "_view_name": "LayoutView",
            "align_content": null,
            "align_items": null,
            "align_self": null,
            "border": null,
            "bottom": null,
            "display": null,
            "flex": null,
            "flex_flow": null,
            "grid_area": null,
            "grid_auto_columns": null,
            "grid_auto_flow": null,
            "grid_auto_rows": null,
            "grid_column": null,
            "grid_gap": null,
            "grid_row": null,
            "grid_template_areas": null,
            "grid_template_columns": null,
            "grid_template_rows": null,
            "height": null,
            "justify_content": null,
            "justify_items": null,
            "left": null,
            "margin": null,
            "max_height": null,
            "max_width": null,
            "min_height": null,
            "min_width": null,
            "object_fit": null,
            "object_position": null,
            "order": null,
            "overflow": null,
            "overflow_x": null,
            "overflow_y": null,
            "padding": null,
            "right": null,
            "top": null,
            "visibility": null,
            "width": null
          }
        },
        "2553550cffc14f2fbb6acdd314a671a9": {
          "model_module": "@jupyter-widgets/controls",
          "model_module_version": "1.5.0",
          "model_name": "HTMLModel",
          "state": {
            "_dom_classes": [],
            "_model_module": "@jupyter-widgets/controls",
            "_model_module_version": "1.5.0",
            "_model_name": "HTMLModel",
            "_view_count": null,
            "_view_module": "@jupyter-widgets/controls",
            "_view_module_version": "1.5.0",
            "_view_name": "HTMLView",
            "description": "",
            "description_tooltip": null,
            "layout": "IPY_MODEL_221d4a83286841d3b8574623363f8024",
            "placeholder": "​",
            "style": "IPY_MODEL_f49a0e5333f646e0816c1585dcaf857d",
            "value": " 39.0M/39.0M [00:04&lt;00:00, 14.1MB/s]"
          }
        },
        "4ce784cbeb4c4121b05bc19b9dc0cbf1": {
          "model_module": "@jupyter-widgets/controls",
          "model_module_version": "1.5.0",
          "model_name": "HTMLModel",
          "state": {
            "_dom_classes": [],
            "_model_module": "@jupyter-widgets/controls",
            "_model_module_version": "1.5.0",
            "_model_name": "HTMLModel",
            "_view_count": null,
            "_view_module": "@jupyter-widgets/controls",
            "_view_module_version": "1.5.0",
            "_view_name": "HTMLView",
            "description": "",
            "description_tooltip": null,
            "layout": "IPY_MODEL_fe31caacab3345008e51f05f992bcbd3",
            "placeholder": "​",
            "style": "IPY_MODEL_dac15540b4264c6a9b73ec3e37b29285",
            "value": "3d1f1805149be0c6684b5a8f9894acf6.grib: 100%"
          }
        },
        "56d436c29aaf4e48a2dddc2682a913d8": {
          "model_module": "@jupyter-widgets/base",
          "model_module_version": "1.2.0",
          "model_name": "LayoutModel",
          "state": {
            "_model_module": "@jupyter-widgets/base",
            "_model_module_version": "1.2.0",
            "_model_name": "LayoutModel",
            "_view_count": null,
            "_view_module": "@jupyter-widgets/base",
            "_view_module_version": "1.2.0",
            "_view_name": "LayoutView",
            "align_content": null,
            "align_items": null,
            "align_self": null,
            "border": null,
            "bottom": null,
            "display": null,
            "flex": null,
            "flex_flow": null,
            "grid_area": null,
            "grid_auto_columns": null,
            "grid_auto_flow": null,
            "grid_auto_rows": null,
            "grid_column": null,
            "grid_gap": null,
            "grid_row": null,
            "grid_template_areas": null,
            "grid_template_columns": null,
            "grid_template_rows": null,
            "height": null,
            "justify_content": null,
            "justify_items": null,
            "left": null,
            "margin": null,
            "max_height": null,
            "max_width": null,
            "min_height": null,
            "min_width": null,
            "object_fit": null,
            "object_position": null,
            "order": null,
            "overflow": null,
            "overflow_x": null,
            "overflow_y": null,
            "padding": null,
            "right": null,
            "top": null,
            "visibility": null,
            "width": null
          }
        },
        "5759f7dd7e3a4245b038b4e38a5bf759": {
          "model_module": "@jupyter-widgets/controls",
          "model_module_version": "1.5.0",
          "model_name": "HBoxModel",
          "state": {
            "_dom_classes": [],
            "_model_module": "@jupyter-widgets/controls",
            "_model_module_version": "1.5.0",
            "_model_name": "HBoxModel",
            "_view_count": null,
            "_view_module": "@jupyter-widgets/controls",
            "_view_module_version": "1.5.0",
            "_view_name": "HBoxView",
            "box_style": "",
            "children": [
              "IPY_MODEL_4ce784cbeb4c4121b05bc19b9dc0cbf1",
              "IPY_MODEL_c831e28d8ba148b19b35eb7e3b03fa41",
              "IPY_MODEL_2553550cffc14f2fbb6acdd314a671a9"
            ],
            "layout": "IPY_MODEL_db6f0c7f7a974aa5b4afc806fe8f0e52"
          }
        },
        "69fb77aa909947be815daefc2cbac43f": {
          "model_module": "@jupyter-widgets/controls",
          "model_module_version": "1.5.0",
          "model_name": "HTMLModel",
          "state": {
            "_dom_classes": [],
            "_model_module": "@jupyter-widgets/controls",
            "_model_module_version": "1.5.0",
            "_model_name": "HTMLModel",
            "_view_count": null,
            "_view_module": "@jupyter-widgets/controls",
            "_view_module_version": "1.5.0",
            "_view_name": "HTMLView",
            "description": "",
            "description_tooltip": null,
            "layout": "IPY_MODEL_56d436c29aaf4e48a2dddc2682a913d8",
            "placeholder": "​",
            "style": "IPY_MODEL_ed6f9b140015444084fb0354c7815687",
            "value": " 1.98M/1.98M [00:01&lt;00:00, 1.31MB/s]"
          }
        },
        "7570813855bc4e24956e7de6b81646c5": {
          "model_module": "@jupyter-widgets/base",
          "model_module_version": "1.2.0",
          "model_name": "LayoutModel",
          "state": {
            "_model_module": "@jupyter-widgets/base",
            "_model_module_version": "1.2.0",
            "_model_name": "LayoutModel",
            "_view_count": null,
            "_view_module": "@jupyter-widgets/base",
            "_view_module_version": "1.2.0",
            "_view_name": "LayoutView",
            "align_content": null,
            "align_items": null,
            "align_self": null,
            "border": null,
            "bottom": null,
            "display": null,
            "flex": null,
            "flex_flow": null,
            "grid_area": null,
            "grid_auto_columns": null,
            "grid_auto_flow": null,
            "grid_auto_rows": null,
            "grid_column": null,
            "grid_gap": null,
            "grid_row": null,
            "grid_template_areas": null,
            "grid_template_columns": null,
            "grid_template_rows": null,
            "height": null,
            "justify_content": null,
            "justify_items": null,
            "left": null,
            "margin": null,
            "max_height": null,
            "max_width": null,
            "min_height": null,
            "min_width": null,
            "object_fit": null,
            "object_position": null,
            "order": null,
            "overflow": null,
            "overflow_x": null,
            "overflow_y": null,
            "padding": null,
            "right": null,
            "top": null,
            "visibility": null,
            "width": null
          }
        },
        "833901bad8514843bd22b5f53d010745": {
          "model_module": "@jupyter-widgets/controls",
          "model_module_version": "1.5.0",
          "model_name": "ProgressStyleModel",
          "state": {
            "_model_module": "@jupyter-widgets/controls",
            "_model_module_version": "1.5.0",
            "_model_name": "ProgressStyleModel",
            "_view_count": null,
            "_view_module": "@jupyter-widgets/base",
            "_view_module_version": "1.2.0",
            "_view_name": "StyleView",
            "bar_color": null,
            "description_width": ""
          }
        },
        "c831e28d8ba148b19b35eb7e3b03fa41": {
          "model_module": "@jupyter-widgets/controls",
          "model_module_version": "1.5.0",
          "model_name": "FloatProgressModel",
          "state": {
            "_dom_classes": [],
            "_model_module": "@jupyter-widgets/controls",
            "_model_module_version": "1.5.0",
            "_model_name": "FloatProgressModel",
            "_view_count": null,
            "_view_module": "@jupyter-widgets/controls",
            "_view_module_version": "1.5.0",
            "_view_name": "ProgressView",
            "bar_style": "",
            "description": "",
            "description_tooltip": null,
            "layout": "IPY_MODEL_7570813855bc4e24956e7de6b81646c5",
            "max": 40879920,
            "min": 0,
            "orientation": "horizontal",
            "style": "IPY_MODEL_ca7aefd425ef4bb191cb6765219e959c",
            "value": 40879920
          }
        },
        "ca7aefd425ef4bb191cb6765219e959c": {
          "model_module": "@jupyter-widgets/controls",
          "model_module_version": "1.5.0",
          "model_name": "ProgressStyleModel",
          "state": {
            "_model_module": "@jupyter-widgets/controls",
            "_model_module_version": "1.5.0",
            "_model_name": "ProgressStyleModel",
            "_view_count": null,
            "_view_module": "@jupyter-widgets/base",
            "_view_module_version": "1.2.0",
            "_view_name": "StyleView",
            "bar_color": null,
            "description_width": ""
          }
        },
        "d65c5224fd6d4e4e83e289e8f2c1f0b5": {
          "model_module": "@jupyter-widgets/controls",
          "model_module_version": "1.5.0",
          "model_name": "HBoxModel",
          "state": {
            "_dom_classes": [],
            "_model_module": "@jupyter-widgets/controls",
            "_model_module_version": "1.5.0",
            "_model_name": "HBoxModel",
            "_view_count": null,
            "_view_module": "@jupyter-widgets/controls",
            "_view_module_version": "1.5.0",
            "_view_name": "HBoxView",
            "box_style": "",
            "children": [
              "IPY_MODEL_fdc9b6314eb14e7eb7de26370ba02f8d",
              "IPY_MODEL_e42f46604c6549c99b4629708aebf3d7",
              "IPY_MODEL_69fb77aa909947be815daefc2cbac43f"
            ],
            "layout": "IPY_MODEL_fa2e86163a8d4162ad4b411f40427cc4"
          }
        },
        "dac15540b4264c6a9b73ec3e37b29285": {
          "model_module": "@jupyter-widgets/controls",
          "model_module_version": "1.5.0",
          "model_name": "DescriptionStyleModel",
          "state": {
            "_model_module": "@jupyter-widgets/controls",
            "_model_module_version": "1.5.0",
            "_model_name": "DescriptionStyleModel",
            "_view_count": null,
            "_view_module": "@jupyter-widgets/base",
            "_view_module_version": "1.2.0",
            "_view_name": "StyleView",
            "description_width": ""
          }
        },
        "db6f0c7f7a974aa5b4afc806fe8f0e52": {
          "model_module": "@jupyter-widgets/base",
          "model_module_version": "1.2.0",
          "model_name": "LayoutModel",
          "state": {
            "_model_module": "@jupyter-widgets/base",
            "_model_module_version": "1.2.0",
            "_model_name": "LayoutModel",
            "_view_count": null,
            "_view_module": "@jupyter-widgets/base",
            "_view_module_version": "1.2.0",
            "_view_name": "LayoutView",
            "align_content": null,
            "align_items": null,
            "align_self": null,
            "border": null,
            "bottom": null,
            "display": null,
            "flex": null,
            "flex_flow": null,
            "grid_area": null,
            "grid_auto_columns": null,
            "grid_auto_flow": null,
            "grid_auto_rows": null,
            "grid_column": null,
            "grid_gap": null,
            "grid_row": null,
            "grid_template_areas": null,
            "grid_template_columns": null,
            "grid_template_rows": null,
            "height": null,
            "justify_content": null,
            "justify_items": null,
            "left": null,
            "margin": null,
            "max_height": null,
            "max_width": null,
            "min_height": null,
            "min_width": null,
            "object_fit": null,
            "object_position": null,
            "order": null,
            "overflow": null,
            "overflow_x": null,
            "overflow_y": null,
            "padding": null,
            "right": null,
            "top": null,
            "visibility": "hidden",
            "width": null
          }
        },
        "e0d3e93b67ef40d49feb03a6faf136ea": {
          "model_module": "@jupyter-widgets/base",
          "model_module_version": "1.2.0",
          "model_name": "LayoutModel",
          "state": {
            "_model_module": "@jupyter-widgets/base",
            "_model_module_version": "1.2.0",
            "_model_name": "LayoutModel",
            "_view_count": null,
            "_view_module": "@jupyter-widgets/base",
            "_view_module_version": "1.2.0",
            "_view_name": "LayoutView",
            "align_content": null,
            "align_items": null,
            "align_self": null,
            "border": null,
            "bottom": null,
            "display": null,
            "flex": null,
            "flex_flow": null,
            "grid_area": null,
            "grid_auto_columns": null,
            "grid_auto_flow": null,
            "grid_auto_rows": null,
            "grid_column": null,
            "grid_gap": null,
            "grid_row": null,
            "grid_template_areas": null,
            "grid_template_columns": null,
            "grid_template_rows": null,
            "height": null,
            "justify_content": null,
            "justify_items": null,
            "left": null,
            "margin": null,
            "max_height": null,
            "max_width": null,
            "min_height": null,
            "min_width": null,
            "object_fit": null,
            "object_position": null,
            "order": null,
            "overflow": null,
            "overflow_x": null,
            "overflow_y": null,
            "padding": null,
            "right": null,
            "top": null,
            "visibility": null,
            "width": null
          }
        },
        "e42f46604c6549c99b4629708aebf3d7": {
          "model_module": "@jupyter-widgets/controls",
          "model_module_version": "1.5.0",
          "model_name": "FloatProgressModel",
          "state": {
            "_dom_classes": [],
            "_model_module": "@jupyter-widgets/controls",
            "_model_module_version": "1.5.0",
            "_model_name": "FloatProgressModel",
            "_view_count": null,
            "_view_module": "@jupyter-widgets/controls",
            "_view_module_version": "1.5.0",
            "_view_name": "ProgressView",
            "bar_style": "",
            "description": "",
            "description_tooltip": null,
            "layout": "IPY_MODEL_fcbb91fc1a914d68aadc290c2d047b0c",
            "max": 2076588,
            "min": 0,
            "orientation": "horizontal",
            "style": "IPY_MODEL_833901bad8514843bd22b5f53d010745",
            "value": 2076588
          }
        },
        "ed6f9b140015444084fb0354c7815687": {
          "model_module": "@jupyter-widgets/controls",
          "model_module_version": "1.5.0",
          "model_name": "DescriptionStyleModel",
          "state": {
            "_model_module": "@jupyter-widgets/controls",
            "_model_module_version": "1.5.0",
            "_model_name": "DescriptionStyleModel",
            "_view_count": null,
            "_view_module": "@jupyter-widgets/base",
            "_view_module_version": "1.2.0",
            "_view_name": "StyleView",
            "description_width": ""
          }
        },
        "f49a0e5333f646e0816c1585dcaf857d": {
          "model_module": "@jupyter-widgets/controls",
          "model_module_version": "1.5.0",
          "model_name": "DescriptionStyleModel",
          "state": {
            "_model_module": "@jupyter-widgets/controls",
            "_model_module_version": "1.5.0",
            "_model_name": "DescriptionStyleModel",
            "_view_count": null,
            "_view_module": "@jupyter-widgets/base",
            "_view_module_version": "1.2.0",
            "_view_name": "StyleView",
            "description_width": ""
          }
        },
        "f86c51c30cbc4e66b41c25a61a2b04ef": {
          "model_module": "@jupyter-widgets/controls",
          "model_module_version": "1.5.0",
          "model_name": "DescriptionStyleModel",
          "state": {
            "_model_module": "@jupyter-widgets/controls",
            "_model_module_version": "1.5.0",
            "_model_name": "DescriptionStyleModel",
            "_view_count": null,
            "_view_module": "@jupyter-widgets/base",
            "_view_module_version": "1.2.0",
            "_view_name": "StyleView",
            "description_width": ""
          }
        },
        "fa2e86163a8d4162ad4b411f40427cc4": {
          "model_module": "@jupyter-widgets/base",
          "model_module_version": "1.2.0",
          "model_name": "LayoutModel",
          "state": {
            "_model_module": "@jupyter-widgets/base",
            "_model_module_version": "1.2.0",
            "_model_name": "LayoutModel",
            "_view_count": null,
            "_view_module": "@jupyter-widgets/base",
            "_view_module_version": "1.2.0",
            "_view_name": "LayoutView",
            "align_content": null,
            "align_items": null,
            "align_self": null,
            "border": null,
            "bottom": null,
            "display": null,
            "flex": null,
            "flex_flow": null,
            "grid_area": null,
            "grid_auto_columns": null,
            "grid_auto_flow": null,
            "grid_auto_rows": null,
            "grid_column": null,
            "grid_gap": null,
            "grid_row": null,
            "grid_template_areas": null,
            "grid_template_columns": null,
            "grid_template_rows": null,
            "height": null,
            "justify_content": null,
            "justify_items": null,
            "left": null,
            "margin": null,
            "max_height": null,
            "max_width": null,
            "min_height": null,
            "min_width": null,
            "object_fit": null,
            "object_position": null,
            "order": null,
            "overflow": null,
            "overflow_x": null,
            "overflow_y": null,
            "padding": null,
            "right": null,
            "top": null,
            "visibility": "hidden",
            "width": null
          }
        },
        "fcbb91fc1a914d68aadc290c2d047b0c": {
          "model_module": "@jupyter-widgets/base",
          "model_module_version": "1.2.0",
          "model_name": "LayoutModel",
          "state": {
            "_model_module": "@jupyter-widgets/base",
            "_model_module_version": "1.2.0",
            "_model_name": "LayoutModel",
            "_view_count": null,
            "_view_module": "@jupyter-widgets/base",
            "_view_module_version": "1.2.0",
            "_view_name": "LayoutView",
            "align_content": null,
            "align_items": null,
            "align_self": null,
            "border": null,
            "bottom": null,
            "display": null,
            "flex": null,
            "flex_flow": null,
            "grid_area": null,
            "grid_auto_columns": null,
            "grid_auto_flow": null,
            "grid_auto_rows": null,
            "grid_column": null,
            "grid_gap": null,
            "grid_row": null,
            "grid_template_areas": null,
            "grid_template_columns": null,
            "grid_template_rows": null,
            "height": null,
            "justify_content": null,
            "justify_items": null,
            "left": null,
            "margin": null,
            "max_height": null,
            "max_width": null,
            "min_height": null,
            "min_width": null,
            "object_fit": null,
            "object_position": null,
            "order": null,
            "overflow": null,
            "overflow_x": null,
            "overflow_y": null,
            "padding": null,
            "right": null,
            "top": null,
            "visibility": null,
            "width": null
          }
        },
        "fdc9b6314eb14e7eb7de26370ba02f8d": {
          "model_module": "@jupyter-widgets/controls",
          "model_module_version": "1.5.0",
          "model_name": "HTMLModel",
          "state": {
            "_dom_classes": [],
            "_model_module": "@jupyter-widgets/controls",
            "_model_module_version": "1.5.0",
            "_model_name": "HTMLModel",
            "_view_count": null,
            "_view_module": "@jupyter-widgets/controls",
            "_view_module_version": "1.5.0",
            "_view_name": "HTMLView",
            "description": "",
            "description_tooltip": null,
            "layout": "IPY_MODEL_e0d3e93b67ef40d49feb03a6faf136ea",
            "placeholder": "​",
            "style": "IPY_MODEL_f86c51c30cbc4e66b41c25a61a2b04ef",
            "value": "1fd5a2b7ad40b8c614c78061a75d30d0.grib: 100%"
          }
        },
        "fe31caacab3345008e51f05f992bcbd3": {
          "model_module": "@jupyter-widgets/base",
          "model_module_version": "1.2.0",
          "model_name": "LayoutModel",
          "state": {
            "_model_module": "@jupyter-widgets/base",
            "_model_module_version": "1.2.0",
            "_model_name": "LayoutModel",
            "_view_count": null,
            "_view_module": "@jupyter-widgets/base",
            "_view_module_version": "1.2.0",
            "_view_name": "LayoutView",
            "align_content": null,
            "align_items": null,
            "align_self": null,
            "border": null,
            "bottom": null,
            "display": null,
            "flex": null,
            "flex_flow": null,
            "grid_area": null,
            "grid_auto_columns": null,
            "grid_auto_flow": null,
            "grid_auto_rows": null,
            "grid_column": null,
            "grid_gap": null,
            "grid_row": null,
            "grid_template_areas": null,
            "grid_template_columns": null,
            "grid_template_rows": null,
            "height": null,
            "justify_content": null,
            "justify_items": null,
            "left": null,
            "margin": null,
            "max_height": null,
            "max_width": null,
            "min_height": null,
            "min_width": null,
            "object_fit": null,
            "object_position": null,
            "order": null,
            "overflow": null,
            "overflow_x": null,
            "overflow_y": null,
            "padding": null,
            "right": null,
            "top": null,
            "visibility": null,
            "width": null
          }
        }
      }
    }
  },
  "nbformat": 4,
  "nbformat_minor": 0
}
